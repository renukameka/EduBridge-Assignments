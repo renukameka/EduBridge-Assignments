{
 "cells": [
  {
   "cell_type": "markdown",
   "id": "ea2be57c",
   "metadata": {},
   "source": [
    "### Respective Month"
   ]
  },
  {
   "cell_type": "code",
   "execution_count": 1,
   "id": "9e048ed8",
   "metadata": {},
   "outputs": [
    {
     "name": "stdout",
     "output_type": "stream",
     "text": [
      "enter no b/w 1-12:5\n",
      "May\n"
     ]
    }
   ],
   "source": [
    "n = int(input('enter no b/w 1-12:'))\n",
    "if n==1:\n",
    "    print(\"January\")\n",
    "elif n==2:\n",
    "    print(\"February\")\n",
    "elif n==3:\n",
    "    print(\"March\")\n",
    "elif n==4:\n",
    "    print(\"April\")\n",
    "elif n==5:\n",
    "    print(\"May\")\n",
    "elif n==6:\n",
    "    print(\"June\")\n",
    "elif n==7:\n",
    "    print(\"July\")\n",
    "elif n==8:\n",
    "    print(\"August\")\n",
    "elif n==9:\n",
    "    print(\"September\")\n",
    "elif n==10:\n",
    "    print(\"October\")\n",
    "elif n==11:\n",
    "    print(\"November\")\n",
    "elif n==12:\n",
    "    print(\"December\")\n",
    "else:\n",
    "    print(\"Wrong input\")"
   ]
  },
  {
   "cell_type": "markdown",
   "id": "9682221e",
   "metadata": {},
   "source": [
    "### Menu driven Program"
   ]
  },
  {
   "cell_type": "code",
   "execution_count": 2,
   "id": "bc73bd6d",
   "metadata": {},
   "outputs": [
    {
     "name": "stdout",
     "output_type": "stream",
     "text": [
      "Menu:\n",
      " 1.Addition\n",
      " 2.Subtraction\n",
      " 3.Multiplication\n",
      " 4.Division\n",
      "enter the menu option:3\n",
      "enter first num:5\n",
      "enter second num:3\n",
      "Multiplication = 15\n"
     ]
    }
   ],
   "source": [
    "print(\"Menu:\\n 1.Addition\\n 2.Subtraction\\n 3.Multiplication\\n 4.Division\")\n",
    "opt =int(input(\"enter the menu option:\"))\n",
    "a = int(input('enter first num:'))\n",
    "b = int(input('enter second num:'))\n",
    "if opt==1:\n",
    "    add = a+b\n",
    "    print(\"Addition =\", add)\n",
    "elif opt==2:\n",
    "    sub = a-b\n",
    "    print(\"Subtraction =\", sub)\n",
    "elif opt==3:\n",
    "    mul = a*b\n",
    "    print(\"Multiplication =\", mul)\n",
    "elif opt==4:\n",
    "    div = a/b\n",
    "    print(\"Division =\", div)\n",
    "else:\n",
    "    print(\"Wrong menu option\")"
   ]
  },
  {
   "cell_type": "markdown",
   "id": "fb08ba58",
   "metadata": {},
   "source": [
    "### Convert temperature"
   ]
  },
  {
   "cell_type": "code",
   "execution_count": 3,
   "id": "1d9feca1",
   "metadata": {},
   "outputs": [
    {
     "name": "stdout",
     "output_type": "stream",
     "text": [
      "Menu:\n",
      " 1.Celsius\n",
      " 2.Fahrenheit\n",
      "enter menu option:1\n",
      "enter temp in Fahrenheit:173\n",
      "Temperature in celsius = 343.40000000000003\n"
     ]
    }
   ],
   "source": [
    "print('Menu:\\n 1.Celsius\\n 2.Fahrenheit')\n",
    "n = int(input('enter menu option:'))\n",
    "if n==1:\n",
    "    temp = int(input('enter temp in Fahrenheit:'))\n",
    "    conv = (temp*(9/5))+32\n",
    "    print(\"Temperature in celsius =\", conv)\n",
    "elif n==2:\n",
    "    temp = int(input('enter temp in Celsius:'))\n",
    "    conv = (temp-32)*(5/9)\n",
    "    print(\"Temperature in Fahrenheit =\", conv)\n",
    "else:\n",
    "    print(\"Wrong input\")"
   ]
  },
  {
   "cell_type": "markdown",
   "id": "d870b6d0",
   "metadata": {},
   "source": [
    "### Bonus of employee"
   ]
  },
  {
   "cell_type": "code",
   "execution_count": 4,
   "id": "7e280604",
   "metadata": {},
   "outputs": [
    {
     "name": "stdout",
     "output_type": "stream",
     "text": [
      "enter salary of employee:10000\n",
      "enter no.of years of service:6\n",
      "net bonus amount = 500.0\n"
     ]
    }
   ],
   "source": [
    "bas_sal = int(input('enter salary of employee:'))\n",
    "year = int(input('enter no.of years of service:'))\n",
    "if year>5:\n",
    "    bonus = bas_sal*0.05\n",
    "else:\n",
    "    bonus = 0\n",
    "print('net bonus amount =', bonus)"
   ]
  },
  {
   "cell_type": "markdown",
   "id": "f54f066c",
   "metadata": {},
   "source": [
    "### Checking Rectangle is Square or not"
   ]
  },
  {
   "cell_type": "code",
   "execution_count": 5,
   "id": "0957ef47",
   "metadata": {},
   "outputs": [
    {
     "name": "stdout",
     "output_type": "stream",
     "text": [
      "enter length of rectangle:6\n",
      "enter breadth of rectangle:6\n",
      "It is a square\n"
     ]
    }
   ],
   "source": [
    "l = int(input('enter length of rectangle:'))\n",
    "b = int(input('enter breadth of rectangle:'))\n",
    "if l==b:\n",
    "    print(\"It is a square\")\n",
    "else:\n",
    "    print(\"It is not a square\")"
   ]
  },
  {
   "cell_type": "markdown",
   "id": "419f3a53",
   "metadata": {},
   "source": [
    "### Oldest & Youngest among 3 People"
   ]
  },
  {
   "cell_type": "code",
   "execution_count": 6,
   "id": "c016197c",
   "metadata": {},
   "outputs": [
    {
     "name": "stdout",
     "output_type": "stream",
     "text": [
      "enter age of first person:56\n",
      "enter age of second person:34\n",
      "enter age of third person:75\n",
      "third person is Oldest\n",
      "second person is youngest\n"
     ]
    }
   ],
   "source": [
    "n1 = int(input('enter age of first person:'))\n",
    "n2 = int(input('enter age of second person:'))\n",
    "n3 = int(input('enter age of third person:'))\n",
    "if (n1>n2 and n1>n3):\n",
    "    print(\"first person is Oldest\")\n",
    "elif (n2>n1 and n2>n3):\n",
    "    print(\"second person is Oldest\")\n",
    "else:\n",
    "    print(\"third person is Oldest\")\n",
    "if (n1<n2 and n1<n3):\n",
    "    print(\"first person is youngest\")\n",
    "elif (n2<n1 and n2<n3):\n",
    "    print(\"second person is youngest\")\n",
    "else:\n",
    "    print(\"third person is youngest\")"
   ]
  },
  {
   "cell_type": "markdown",
   "id": "159dd883",
   "metadata": {},
   "source": [
    "### Grading system"
   ]
  },
  {
   "cell_type": "code",
   "execution_count": 7,
   "id": "5a163f2a",
   "metadata": {},
   "outputs": [
    {
     "name": "stdout",
     "output_type": "stream",
     "text": [
      "enter marks of student:63.8\n",
      "B grade\n"
     ]
    }
   ],
   "source": [
    "marks = float(input('enter marks of student:'))\n",
    "if (marks>80.00 and marks<=100.00):\n",
    "    print(\"A grade\")\n",
    "elif (marks>60.00 and marks<=80.00):\n",
    "    print(\"B grade\")\n",
    "elif (marks>50.00 and marks<=60.00):\n",
    "    print(\"C grade\")\n",
    "elif (marks>45.00 and marks<=50.00):\n",
    "    print(\"D grade\")\n",
    "elif (marks>=25.00 and marks<=45.00):\n",
    "    print(\"E grade\")\n",
    "elif (marks<25.00):\n",
    "    print(\"F grade\")\n",
    "else:\n",
    "    print(\"Wrong marks\")"
   ]
  },
  {
   "cell_type": "markdown",
   "id": "2333e114",
   "metadata": {},
   "source": [
    "### Allowed to exam based on attendance"
   ]
  },
  {
   "cell_type": "code",
   "execution_count": 1,
   "id": "3ab92593",
   "metadata": {},
   "outputs": [
    {
     "name": "stdout",
     "output_type": "stream",
     "text": [
      "Enter no.of classes held:35\n",
      "Enter no.of classes attended:15\n",
      "percentage of class attended = 42.857142857142854\n",
      "Student is not allowed to sit in exam\n"
     ]
    }
   ],
   "source": [
    "n1 = int(input('Enter no.of classes held:'))\n",
    "n2 = int(input('Enter no.of classes attended:'))\n",
    "perc = (n2/n1)*100\n",
    "print('percentage of class attended =', perc)\n",
    "if perc>75.00 and perc<=100.00:\n",
    "    print(\"Student is allowed to sit in exam\")\n",
    "elif perc<=75.00 and perc>=0:\n",
    "    print(\"Student is not allowed to sit in exam\")\n",
    "else:\n",
    "    print(\"Wrong input\")"
   ]
  },
  {
   "cell_type": "code",
   "execution_count": null,
   "id": "0cbdebae",
   "metadata": {},
   "outputs": [],
   "source": []
  }
 ],
 "metadata": {
  "kernelspec": {
   "display_name": "Python 3 (ipykernel)",
   "language": "python",
   "name": "python3"
  },
  "language_info": {
   "codemirror_mode": {
    "name": "ipython",
    "version": 3
   },
   "file_extension": ".py",
   "mimetype": "text/x-python",
   "name": "python",
   "nbconvert_exporter": "python",
   "pygments_lexer": "ipython3",
   "version": "3.9.12"
  }
 },
 "nbformat": 4,
 "nbformat_minor": 5
}
