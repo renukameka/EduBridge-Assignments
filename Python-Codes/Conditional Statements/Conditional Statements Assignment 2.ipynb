{
 "cells": [
  {
   "cell_type": "markdown",
   "id": "b6af93c6",
   "metadata": {},
   "source": [
    "### Greatest number b/w 2 numbers"
   ]
  },
  {
   "cell_type": "code",
   "execution_count": 1,
   "id": "3770bb2b",
   "metadata": {},
   "outputs": [
    {
     "name": "stdout",
     "output_type": "stream",
     "text": [
      "enter first num:8\n",
      "enter second num:6\n",
      "Greatest number = 8\n"
     ]
    }
   ],
   "source": [
    "n1 = int(input('enter first num:'))\n",
    "n2 = int(input('enter second num:'))\n",
    "if n1>n2:\n",
    "    print(\"Greatest number =\", n1)\n",
    "elif n1<n2:\n",
    "    print(\"Greatest number =\", n2)\n",
    "else:\n",
    "    print(\"Both are equal\")"
   ]
  },
  {
   "cell_type": "markdown",
   "id": "bc055241",
   "metadata": {},
   "source": [
    "### Smallest number b/w 2 numbers"
   ]
  },
  {
   "cell_type": "code",
   "execution_count": 2,
   "id": "572de8f5",
   "metadata": {},
   "outputs": [
    {
     "name": "stdout",
     "output_type": "stream",
     "text": [
      "enter first num:8\n",
      "enter second num:6\n",
      "Smallest number = 6\n"
     ]
    }
   ],
   "source": [
    "n1 = int(input('enter first num:'))\n",
    "n2 = int(input('enter second num:'))\n",
    "if n1<n2:\n",
    "    print(\"Smallest number =\", n1)\n",
    "elif n2<n1:\n",
    "    print(\"Smallest number =\", n2)\n",
    "else:\n",
    "    print(\"Both are equal\")"
   ]
  },
  {
   "cell_type": "markdown",
   "id": "31873c0b",
   "metadata": {},
   "source": [
    "### Greatest number among 3 numbers"
   ]
  },
  {
   "cell_type": "code",
   "execution_count": 3,
   "id": "9e707bb5",
   "metadata": {},
   "outputs": [
    {
     "name": "stdout",
     "output_type": "stream",
     "text": [
      "enter first num:12\n",
      "enter second num:18\n",
      "enter third num:16\n",
      "Greatest number = 18\n"
     ]
    }
   ],
   "source": [
    "n1 = int(input('enter first num:'))\n",
    "n2 = int(input('enter second num:'))\n",
    "n3 = int(input('enter third num:'))\n",
    "if (n1>n2 and n1>n3):\n",
    "    print(\"Greatest number =\", n1)\n",
    "elif (n2>n1 and n2>n3):\n",
    "    print(\"Greatest number =\", n2)\n",
    "else:\n",
    "    print(\"Greatest number =\", n3)"
   ]
  },
  {
   "cell_type": "markdown",
   "id": "d213cbc3",
   "metadata": {},
   "source": [
    "### Smallest number among 3 numbers"
   ]
  },
  {
   "cell_type": "code",
   "execution_count": 4,
   "id": "6608b22d",
   "metadata": {},
   "outputs": [
    {
     "name": "stdout",
     "output_type": "stream",
     "text": [
      "enter first num:21\n",
      "enter second num:12\n",
      "enter third num:32\n",
      "Smallest number = 12\n"
     ]
    }
   ],
   "source": [
    "n1 = int(input('enter first num:'))\n",
    "n2 = int(input('enter second num:'))\n",
    "n3 = int(input('enter third num:'))\n",
    "if (n1<n2 and n1<n3):\n",
    "    print(\"Smallest number =\", n1)\n",
    "elif (n2<n1 and n2<n3):\n",
    "    print(\"Smallest number =\", n2)\n",
    "else:\n",
    "    print(\"Smallest number =\", n3)"
   ]
  },
  {
   "cell_type": "markdown",
   "id": "9554fd62",
   "metadata": {},
   "source": [
    "### Roots of quadratic equation"
   ]
  },
  {
   "cell_type": "code",
   "execution_count": 17,
   "id": "566a7c18",
   "metadata": {},
   "outputs": [
    {
     "name": "stdout",
     "output_type": "stream",
     "text": [
      "Enter value of a = 1\n",
      "Enter value of b = 0\n",
      "Enter value of c = -16\n",
      "Roots of quadratic equation is\n",
      "  4.0 \n",
      " -4.0\n"
     ]
    }
   ],
   "source": [
    "a=int(input(\"Enter value of a = \"))\n",
    "b=int(input('Enter value of b = '))\n",
    "c=int(input('Enter value of c = '))\n",
    "r1 = (-b+((b**2)-4*a*c)**0.5)/(2*a)\n",
    "r2 = (-b-((b**2)-4*a*c)**0.5)/(2*a)\n",
    "print(\"Roots of quadratic equation is\\n \",r1,'\\n',r2)"
   ]
  },
  {
   "cell_type": "markdown",
   "id": "f0784693",
   "metadata": {},
   "source": [
    "### Respective day"
   ]
  },
  {
   "cell_type": "code",
   "execution_count": 7,
   "id": "36d7762f",
   "metadata": {},
   "outputs": [
    {
     "name": "stdout",
     "output_type": "stream",
     "text": [
      "Enter number from 1-7 = 5\n",
      "Friday\n"
     ]
    }
   ],
   "source": [
    "n=int(input('Enter number from 1-7 = '))\n",
    "if n == 1:\n",
    "    print('Monday')\n",
    "elif n==2:\n",
    "    print('Tuesday')\n",
    "elif n==3:\n",
    "    print('Wednesday')\n",
    "elif n==4:\n",
    "    print('Thursday')\n",
    "elif n==5:\n",
    "    print('Friday')\n",
    "elif n==6:\n",
    "    print('Saturday')\n",
    "elif n==7:\n",
    "    print('Sunday')\n",
    "else:\n",
    "    print('Wrong input')"
   ]
  },
  {
   "cell_type": "code",
   "execution_count": null,
   "id": "095a4750",
   "metadata": {},
   "outputs": [],
   "source": []
  }
 ],
 "metadata": {
  "kernelspec": {
   "display_name": "Python 3 (ipykernel)",
   "language": "python",
   "name": "python3"
  },
  "language_info": {
   "codemirror_mode": {
    "name": "ipython",
    "version": 3
   },
   "file_extension": ".py",
   "mimetype": "text/x-python",
   "name": "python",
   "nbconvert_exporter": "python",
   "pygments_lexer": "ipython3",
   "version": "3.9.12"
  }
 },
 "nbformat": 4,
 "nbformat_minor": 5
}
