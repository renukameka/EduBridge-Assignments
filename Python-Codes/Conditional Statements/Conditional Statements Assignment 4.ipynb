{
 "cells": [
  {
   "cell_type": "markdown",
   "id": "23066f78",
   "metadata": {},
   "source": [
    "### Program to check whether a student is allowed to sit in the exam or not based on attendance"
   ]
  },
  {
   "cell_type": "code",
   "execution_count": 1,
   "id": "894de225",
   "metadata": {
    "scrolled": true
   },
   "outputs": [
    {
     "name": "stdout",
     "output_type": "stream",
     "text": [
      "Enter no.of classes held:65\n",
      "Enter no.of classes attended:55\n",
      "percentage of class attended = 84.62 %\n",
      "Student is allowed to sit in exam\n"
     ]
    }
   ],
   "source": [
    "n1 = int(input('Enter no.of classes held:'))\n",
    "n2 = int(input('Enter no.of classes attended:'))\n",
    "perc = round((n2/n1)*100,2)\n",
    "print('percentage of class attended =', perc,'%')\n",
    "if perc>75.00 and perc<=100.00:\n",
    "    print(\"Student is allowed to sit in exam\")\n",
    "elif perc<=75.00 and perc>=0:\n",
    "    print(\"Student is not allowed to sit in exam\")\n",
    "else:\n",
    "    print(\"Wrong input\")"
   ]
  },
  {
   "cell_type": "code",
   "execution_count": null,
   "id": "094ddb53",
   "metadata": {},
   "outputs": [],
   "source": []
  }
 ],
 "metadata": {
  "kernelspec": {
   "display_name": "Python 3 (ipykernel)",
   "language": "python",
   "name": "python3"
  },
  "language_info": {
   "codemirror_mode": {
    "name": "ipython",
    "version": 3
   },
   "file_extension": ".py",
   "mimetype": "text/x-python",
   "name": "python",
   "nbconvert_exporter": "python",
   "pygments_lexer": "ipython3",
   "version": "3.9.12"
  }
 },
 "nbformat": 4,
 "nbformat_minor": 5
}
