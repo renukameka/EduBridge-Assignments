{
 "cells": [
  {
   "cell_type": "markdown",
   "id": "e1d9e88f",
   "metadata": {},
   "source": [
    "### Even or Odd"
   ]
  },
  {
   "cell_type": "code",
   "execution_count": 3,
   "id": "29319be4",
   "metadata": {},
   "outputs": [
    {
     "name": "stdout",
     "output_type": "stream",
     "text": [
      "enter num:7\n",
      "number is odd\n"
     ]
    }
   ],
   "source": [
    "num = int(input('enter num:'))\n",
    "if num%2==0:\n",
    "    print(\"number is even\")\n",
    "else:\n",
    "    print(\"number is odd\")"
   ]
  },
  {
   "cell_type": "markdown",
   "id": "37c9ad7d",
   "metadata": {},
   "source": [
    "### Vowel or Consonant"
   ]
  },
  {
   "cell_type": "code",
   "execution_count": 4,
   "id": "e0edee20",
   "metadata": {},
   "outputs": [
    {
     "name": "stdout",
     "output_type": "stream",
     "text": [
      "enter character:r\n",
      "Consonant\n"
     ]
    }
   ],
   "source": [
    "char = str(input('enter character:'))\n",
    "if (char=='a') or (char=='e') or (char=='i') or (char=='o') or (char=='u'):\n",
    "    print(\"Vowel\")\n",
    "else:\n",
    "    print(\"Consonant\")"
   ]
  },
  {
   "cell_type": "markdown",
   "id": "24340633",
   "metadata": {},
   "source": [
    "### Eligibilty for Vote"
   ]
  },
  {
   "cell_type": "code",
   "execution_count": 5,
   "id": "e852f3a8",
   "metadata": {},
   "outputs": [
    {
     "name": "stdout",
     "output_type": "stream",
     "text": [
      "enter age of person:24\n",
      "person is eligible to vote\n"
     ]
    }
   ],
   "source": [
    "age = int(input('enter age of person:'))\n",
    "if age<18:\n",
    "    print(\"person is not eligible for vote\")\n",
    "else:\n",
    "    print(\"person is eligible to vote\")"
   ]
  },
  {
   "cell_type": "markdown",
   "id": "5bb05e24",
   "metadata": {},
   "source": [
    "### Positive, Negative or Zero"
   ]
  },
  {
   "cell_type": "code",
   "execution_count": 6,
   "id": "99300019",
   "metadata": {},
   "outputs": [
    {
     "name": "stdout",
     "output_type": "stream",
     "text": [
      "enter num:-4\n",
      "Negative number\n"
     ]
    }
   ],
   "source": [
    "num = int(input('enter num:'))\n",
    "if num==0:\n",
    "    print(\"Zero\")\n",
    "elif num>0:\n",
    "    print(\"Positive number\")\n",
    "else:\n",
    "    print(\"Negative number\")"
   ]
  },
  {
   "cell_type": "markdown",
   "id": "0cac9020",
   "metadata": {},
   "source": [
    "### Leap year or not"
   ]
  },
  {
   "cell_type": "code",
   "execution_count": 8,
   "id": "bcf891a8",
   "metadata": {},
   "outputs": [
    {
     "name": "stdout",
     "output_type": "stream",
     "text": [
      "enter year:2016\n",
      "Leap Year\n"
     ]
    }
   ],
   "source": [
    "year = int(input('enter year:'))\n",
    "if year%4==0:\n",
    "    print(\"Leap Year\")\n",
    "else:\n",
    "    print(\"Not Leap Year\")"
   ]
  },
  {
   "cell_type": "markdown",
   "id": "d1619430",
   "metadata": {},
   "source": [
    "### Types of triangle"
   ]
  },
  {
   "cell_type": "code",
   "execution_count": 9,
   "id": "8606a002",
   "metadata": {},
   "outputs": [
    {
     "name": "stdout",
     "output_type": "stream",
     "text": [
      "enter first side of triangle5\n",
      "enter second side of triangle5\n",
      "enter third side of triangle4\n",
      "Isosceles triangle\n"
     ]
    }
   ],
   "source": [
    "a = int(input('enter first side of triangle'))\n",
    "b = int(input('enter second side of triangle'))\n",
    "c = int(input('enter third side of triangle'))\n",
    "if a==b==c:\n",
    "    print(\"Equilateral triangle\")\n",
    "elif (a!=b and a!=c and b!=c):\n",
    "    print(\"Scalene triangle\")\n",
    "else:\n",
    "    print(\"Isosceles triangle\")\n"
   ]
  },
  {
   "cell_type": "markdown",
   "id": "3b9468ff",
   "metadata": {},
   "source": [
    "### Profit or Loss"
   ]
  },
  {
   "cell_type": "code",
   "execution_count": 10,
   "id": "d3488ffe",
   "metadata": {},
   "outputs": [
    {
     "name": "stdout",
     "output_type": "stream",
     "text": [
      "enter cost price of the product:56\n",
      "enter selling price of the product:60\n",
      "Profit\n"
     ]
    }
   ],
   "source": [
    "CP = int(input('enter cost price of the product:'))\n",
    "SP = int(input('enter selling price of the product:'))\n",
    "if SP > CP:\n",
    "    print(\"Profit\")\n",
    "elif SP < CP:\n",
    "    print(\"Loss\")\n",
    "else:\n",
    "    print(\"No loss no profit\")\n"
   ]
  },
  {
   "cell_type": "code",
   "execution_count": null,
   "id": "68f2ad3c",
   "metadata": {},
   "outputs": [],
   "source": []
  }
 ],
 "metadata": {
  "kernelspec": {
   "display_name": "Python 3 (ipykernel)",
   "language": "python",
   "name": "python3"
  },
  "language_info": {
   "codemirror_mode": {
    "name": "ipython",
    "version": 3
   },
   "file_extension": ".py",
   "mimetype": "text/x-python",
   "name": "python",
   "nbconvert_exporter": "python",
   "pygments_lexer": "ipython3",
   "version": "3.9.12"
  }
 },
 "nbformat": 4,
 "nbformat_minor": 5
}
