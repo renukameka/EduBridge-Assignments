{
 "cells": [
  {
   "cell_type": "markdown",
   "id": "c81e2e0e",
   "metadata": {},
   "source": [
    "### Length of string"
   ]
  },
  {
   "cell_type": "code",
   "execution_count": 1,
   "id": "a22c2e48",
   "metadata": {},
   "outputs": [
    {
     "name": "stdout",
     "output_type": "stream",
     "text": [
      "enter string:hello python\n",
      "length of string = 12\n"
     ]
    }
   ],
   "source": [
    "string = input('enter string:')\n",
    "print('length of string =', len(string))"
   ]
  },
  {
   "cell_type": "code",
   "execution_count": 2,
   "id": "400ad6cf",
   "metadata": {},
   "outputs": [
    {
     "name": "stdout",
     "output_type": "stream",
     "text": [
      "enter string:hello python\n",
      "length of string = 12\n"
     ]
    }
   ],
   "source": [
    "string = input('enter string:')\n",
    "i = 0\n",
    "while string[i:]:\n",
    "    i += 1\n",
    "print('length of string =', i)"
   ]
  },
  {
   "cell_type": "markdown",
   "id": "335c006c",
   "metadata": {},
   "source": [
    "### number of characters in string"
   ]
  },
  {
   "cell_type": "code",
   "execution_count": 3,
   "id": "8148a5fd",
   "metadata": {},
   "outputs": [
    {
     "name": "stdout",
     "output_type": "stream",
     "text": [
      "enter string:hello4python6\n",
      "no.of characters in string = 11\n"
     ]
    }
   ],
   "source": [
    "string = input('enter string:')\n",
    "i = 0\n",
    "count = 0\n",
    "while i<len(string):\n",
    "    if string[i].isalpha()==True:\n",
    "        count += 1\n",
    "    i += 1\n",
    "print('no.of characters in string =', count)"
   ]
  },
  {
   "cell_type": "markdown",
   "id": "11105016",
   "metadata": {},
   "source": [
    "### Upper & Lower Cases string"
   ]
  },
  {
   "cell_type": "code",
   "execution_count": 4,
   "id": "eb9cf409",
   "metadata": {},
   "outputs": [
    {
     "name": "stdout",
     "output_type": "stream",
     "text": [
      "Enter your string = Hello Programming\n",
      "String in UPPER Case :  HELLO PROGRAMMING\n",
      "String in lower Case :  hello programming\n"
     ]
    }
   ],
   "source": [
    "str1 = input('Enter your string = ')\n",
    "print('String in UPPER Case : ',str1.upper())\n",
    "print('String in lower Case : ',str1.lower())"
   ]
  },
  {
   "cell_type": "markdown",
   "id": "9066d2ec",
   "metadata": {},
   "source": [
    "### Palindrome or not"
   ]
  },
  {
   "cell_type": "code",
   "execution_count": 5,
   "id": "09380232",
   "metadata": {},
   "outputs": [
    {
     "name": "stdout",
     "output_type": "stream",
     "text": [
      "enter string:level\n",
      "String is palindrome\n"
     ]
    }
   ],
   "source": [
    "str1 = input('enter string:')\n",
    "str2 = str1[::-1]\n",
    "if str2==str1:\n",
    "    print('String is palindrome')\n",
    "else :\n",
    "    print('String is not a palindrome')"
   ]
  },
  {
   "cell_type": "markdown",
   "id": "5903b8d7",
   "metadata": {},
   "source": [
    "### Reverse of string"
   ]
  },
  {
   "cell_type": "code",
   "execution_count": 6,
   "id": "abc7379e",
   "metadata": {},
   "outputs": [
    {
     "name": "stdout",
     "output_type": "stream",
     "text": [
      "enter string:dream\n",
      "reverse of string = maerd\n"
     ]
    }
   ],
   "source": [
    "str1 = input('enter string:')\n",
    "str2 = str1[::-1]\n",
    "print('reverse of string =', str2)"
   ]
  },
  {
   "cell_type": "markdown",
   "id": "1125ffd5",
   "metadata": {},
   "source": [
    "### Unique words in sorted form"
   ]
  },
  {
   "cell_type": "code",
   "execution_count": 7,
   "id": "4996e97d",
   "metadata": {},
   "outputs": [
    {
     "name": "stdout",
     "output_type": "stream",
     "text": [
      "Enter strings:mango,apple,cherry,apple,orange,grapes\n",
      "['mango', 'apple', 'cherry', 'apple', 'orange', 'grapes']\n",
      "['apple', 'cherry', 'grapes', 'mango', 'orange']\n"
     ]
    }
   ],
   "source": [
    "s1 = input('Enter strings:').split(',')\n",
    "print(s1)\n",
    "m = set(s1)\n",
    "s2 = sorted(m)\n",
    "print(s2)"
   ]
  },
  {
   "cell_type": "code",
   "execution_count": null,
   "id": "bfb603b6",
   "metadata": {},
   "outputs": [],
   "source": []
  }
 ],
 "metadata": {
  "kernelspec": {
   "display_name": "Python 3 (ipykernel)",
   "language": "python",
   "name": "python3"
  },
  "language_info": {
   "codemirror_mode": {
    "name": "ipython",
    "version": 3
   },
   "file_extension": ".py",
   "mimetype": "text/x-python",
   "name": "python",
   "nbconvert_exporter": "python",
   "pygments_lexer": "ipython3",
   "version": "3.9.12"
  }
 },
 "nbformat": 4,
 "nbformat_minor": 5
}
