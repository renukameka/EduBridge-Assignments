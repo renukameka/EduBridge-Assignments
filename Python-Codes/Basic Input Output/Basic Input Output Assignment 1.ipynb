{
 "cells": [
  {
   "cell_type": "markdown",
   "id": "9d576b73",
   "metadata": {},
   "source": [
    "### Self Introduction"
   ]
  },
  {
   "cell_type": "code",
   "execution_count": 1,
   "id": "10a0bfce",
   "metadata": {},
   "outputs": [
    {
     "name": "stdout",
     "output_type": "stream",
     "text": [
      "Hi Renu welcome to python\n"
     ]
    }
   ],
   "source": [
    "print(\"Hi Renu welcome to python\")"
   ]
  },
  {
   "cell_type": "markdown",
   "id": "dc285c1c",
   "metadata": {},
   "source": [
    "### Addition"
   ]
  },
  {
   "cell_type": "code",
   "execution_count": 2,
   "id": "0315080a",
   "metadata": {},
   "outputs": [
    {
     "name": "stdout",
     "output_type": "stream",
     "text": [
      "enter n1:6\n",
      "enter n2:8\n",
      "sum = 14\n"
     ]
    }
   ],
   "source": [
    "n1 = int(input('enter n1:'))\n",
    "n2 = int(input('enter n2:'))\n",
    "sum = n1+n2\n",
    "print('sum =', sum)"
   ]
  },
  {
   "cell_type": "markdown",
   "id": "8dafcb83",
   "metadata": {},
   "source": [
    "### Subtraction"
   ]
  },
  {
   "cell_type": "code",
   "execution_count": 3,
   "id": "aeff6351",
   "metadata": {},
   "outputs": [
    {
     "name": "stdout",
     "output_type": "stream",
     "text": [
      "enter n1:8\n",
      "enter n2:3\n",
      "sub = 5\n"
     ]
    }
   ],
   "source": [
    "n1 = int(input('enter n1:'))\n",
    "n2 = int(input('enter n2:'))\n",
    "sub = n1-n2\n",
    "print('sub =', sub)"
   ]
  },
  {
   "cell_type": "markdown",
   "id": "87118a4e",
   "metadata": {},
   "source": [
    "### Multiplication"
   ]
  },
  {
   "cell_type": "code",
   "execution_count": 4,
   "id": "4c74bfc2",
   "metadata": {},
   "outputs": [
    {
     "name": "stdout",
     "output_type": "stream",
     "text": [
      "enter n1:5\n",
      "enter n2:3\n",
      "mul = 15\n"
     ]
    }
   ],
   "source": [
    "n1 = int(input('enter n1:'))\n",
    "n2 = int(input('enter n2:'))\n",
    "mul = n1*n2\n",
    "print('mul =', mul)"
   ]
  },
  {
   "cell_type": "markdown",
   "id": "66507566",
   "metadata": {},
   "source": [
    "### Division"
   ]
  },
  {
   "cell_type": "code",
   "execution_count": 5,
   "id": "7c48c703",
   "metadata": {},
   "outputs": [
    {
     "name": "stdout",
     "output_type": "stream",
     "text": [
      "enter n1:8\n",
      "enter n2:5\n",
      "div = 1.6\n"
     ]
    }
   ],
   "source": [
    "n1 = int(input('enter n1:'))\n",
    "n2 = int(input('enter n2:'))\n",
    "div = n1/n2\n",
    "print('div =', div)"
   ]
  },
  {
   "cell_type": "markdown",
   "id": "13a96c86",
   "metadata": {},
   "source": [
    "### Modulus"
   ]
  },
  {
   "cell_type": "code",
   "execution_count": 6,
   "id": "dcf592f9",
   "metadata": {},
   "outputs": [
    {
     "name": "stdout",
     "output_type": "stream",
     "text": [
      "enter n1:8\n",
      "enter n2:5\n",
      "rem = 3\n"
     ]
    }
   ],
   "source": [
    "n1 = int(input('enter n1:'))\n",
    "n2 = int(input('enter n2:'))\n",
    "rem = n1%n2\n",
    "print('rem =', rem)"
   ]
  },
  {
   "cell_type": "markdown",
   "id": "8e945d4f",
   "metadata": {},
   "source": [
    "### Exponent"
   ]
  },
  {
   "cell_type": "code",
   "execution_count": 7,
   "id": "d37224a6",
   "metadata": {},
   "outputs": [
    {
     "name": "stdout",
     "output_type": "stream",
     "text": [
      "enter n1:2\n",
      "enter n2:3\n",
      "exp = 8\n"
     ]
    }
   ],
   "source": [
    "n1 = int(input('enter n1:'))\n",
    "n2 = int(input('enter n2:'))\n",
    "exp = n1**n2\n",
    "print('exp =', exp)"
   ]
  },
  {
   "cell_type": "code",
   "execution_count": null,
   "id": "10d69b4f",
   "metadata": {},
   "outputs": [],
   "source": []
  }
 ],
 "metadata": {
  "kernelspec": {
   "display_name": "Python 3 (ipykernel)",
   "language": "python",
   "name": "python3"
  },
  "language_info": {
   "codemirror_mode": {
    "name": "ipython",
    "version": 3
   },
   "file_extension": ".py",
   "mimetype": "text/x-python",
   "name": "python",
   "nbconvert_exporter": "python",
   "pygments_lexer": "ipython3",
   "version": "3.9.12"
  }
 },
 "nbformat": 4,
 "nbformat_minor": 5
}
