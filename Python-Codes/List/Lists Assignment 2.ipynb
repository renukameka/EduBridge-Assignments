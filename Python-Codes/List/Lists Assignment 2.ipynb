{
 "cells": [
  {
   "cell_type": "markdown",
   "id": "4a783e84",
   "metadata": {},
   "source": [
    "### Program to copy a list"
   ]
  },
  {
   "cell_type": "code",
   "execution_count": 1,
   "id": "733b2f80",
   "metadata": {},
   "outputs": [
    {
     "name": "stdout",
     "output_type": "stream",
     "text": [
      "enter list items:3468374\n",
      "copied list: ['3', '4', '6', '8', '3', '7', '4']\n"
     ]
    }
   ],
   "source": [
    "n = list(input('enter list items:'))\n",
    "m = n.copy()\n",
    "print('copied list:', m)"
   ]
  },
  {
   "cell_type": "markdown",
   "id": "04b65a4c",
   "metadata": {},
   "source": [
    "### Program to find second smallest number in list"
   ]
  },
  {
   "cell_type": "code",
   "execution_count": 2,
   "id": "cec592fd",
   "metadata": {},
   "outputs": [
    {
     "name": "stdout",
     "output_type": "stream",
     "text": [
      "Enter list elements separated by space:5 3 7 5 8 3 4 7\n",
      "[5, 3, 7, 5, 8, 3, 4, 7]\n",
      "second smallest element: 4\n"
     ]
    }
   ],
   "source": [
    "lst = input('Enter list elements separated by space:')\n",
    "n = lst.split()\n",
    "for i in range(len(n)):\n",
    "    n[i] = int(n[i])\n",
    "print(n)\n",
    "m = sorted(list(set(n)))\n",
    "print(\"second smallest element:\", m[1])"
   ]
  },
  {
   "cell_type": "markdown",
   "id": "b0215b36",
   "metadata": {},
   "source": [
    "### Program to find second largest number in list"
   ]
  },
  {
   "cell_type": "code",
   "execution_count": 3,
   "id": "5955a2dd",
   "metadata": {},
   "outputs": [
    {
     "name": "stdout",
     "output_type": "stream",
     "text": [
      "Enter list elements separated by space:7 4 3 7 3 8 9 5 9\n",
      "[7, 4, 3, 7, 3, 8, 9, 5, 9]\n",
      "second largest element: 8\n"
     ]
    }
   ],
   "source": [
    "lst = input('Enter list elements separated by space:')\n",
    "n = lst.split()\n",
    "for i in range(len(n)):\n",
    "    n[i] = int(n[i])\n",
    "print(n)\n",
    "m = sorted(list(set(n)))\n",
    "print(\"second largest element:\", m[-2])"
   ]
  },
  {
   "cell_type": "markdown",
   "id": "b95b7dec",
   "metadata": {},
   "source": [
    "### Program to get unique values from list"
   ]
  },
  {
   "cell_type": "code",
   "execution_count": 4,
   "id": "3c00b75c",
   "metadata": {},
   "outputs": [
    {
     "name": "stdout",
     "output_type": "stream",
     "text": [
      "Enter list elements separated by space:6 4 8 4 7 6 8 7\n",
      "['6', '4', '8', '4', '7', '6', '8', '7']\n",
      "unique values of list: ['6', '8', '4', '7']\n"
     ]
    }
   ],
   "source": [
    "lst = input('Enter list elements separated by space:')\n",
    "n = lst.split()\n",
    "print(n)\n",
    "m = list(set(n))\n",
    "print(\"unique values of list:\", m)"
   ]
  },
  {
   "cell_type": "markdown",
   "id": "f295a85c",
   "metadata": {},
   "source": [
    "### Program to find frequency of elements in a list"
   ]
  },
  {
   "cell_type": "code",
   "execution_count": 5,
   "id": "93b7762d",
   "metadata": {},
   "outputs": [
    {
     "name": "stdout",
     "output_type": "stream",
     "text": [
      "Enter list elements:5 7 3 7 5 8 5 9 6 6 \n",
      "{'5': 3, '7': 2, '3': 1, '8': 1, '9': 1, '6': 2}\n"
     ]
    }
   ],
   "source": [
    "lst = input('Enter list elements:')\n",
    "l1 = lst.split()\n",
    "l2 = l1\n",
    "c=[0]*len(l2)\n",
    "i,j = 0,0\n",
    "my = dict()\n",
    "for i in range(len(l2)):\n",
    "    for j in range(len(l1)):\n",
    "        if l2[i]==l1[j]:\n",
    "            c[i]+=1\n",
    "    my[l2[i]]=c[i]\n",
    "print(my)"
   ]
  },
  {
   "cell_type": "code",
   "execution_count": null,
   "id": "3cef92e0",
   "metadata": {},
   "outputs": [],
   "source": []
  }
 ],
 "metadata": {
  "kernelspec": {
   "display_name": "Python 3 (ipykernel)",
   "language": "python",
   "name": "python3"
  },
  "language_info": {
   "codemirror_mode": {
    "name": "ipython",
    "version": 3
   },
   "file_extension": ".py",
   "mimetype": "text/x-python",
   "name": "python",
   "nbconvert_exporter": "python",
   "pygments_lexer": "ipython3",
   "version": "3.9.12"
  }
 },
 "nbformat": 4,
 "nbformat_minor": 5
}
