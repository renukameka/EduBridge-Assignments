{
 "cells": [
  {
   "cell_type": "markdown",
   "id": "b27562ed",
   "metadata": {},
   "source": [
    "### Sum of all items in a list"
   ]
  },
  {
   "cell_type": "code",
   "execution_count": 1,
   "id": "f201bd8a",
   "metadata": {},
   "outputs": [
    {
     "name": "stdout",
     "output_type": "stream",
     "text": [
      "sum of list = renu6text8cherry\n"
     ]
    }
   ],
   "source": [
    "lst = ['renu','6','text','8','cherry']\n",
    "add = lst[0]+lst[1]+lst[2]+lst[3]+lst[4]\n",
    "print('sum of list =', add)"
   ]
  },
  {
   "cell_type": "code",
   "execution_count": 2,
   "id": "bf2c9ee5",
   "metadata": {},
   "outputs": [
    {
     "name": "stdout",
     "output_type": "stream",
     "text": [
      "sum of list = 28\n"
     ]
    }
   ],
   "source": [
    "n = [5,8,6,9]\n",
    "i = 0\n",
    "sum = 0\n",
    "while i<len(n):\n",
    "    sum += n[i]\n",
    "    i+=1\n",
    "print('sum of list =', sum)"
   ]
  },
  {
   "cell_type": "markdown",
   "id": "61392b79",
   "metadata": {},
   "source": [
    "### Multiply all items in list"
   ]
  },
  {
   "cell_type": "code",
   "execution_count": 3,
   "id": "ca4f9a01",
   "metadata": {},
   "outputs": [
    {
     "name": "stdout",
     "output_type": "stream",
     "text": [
      "multiplication of list = 120\n"
     ]
    }
   ],
   "source": [
    "n = [2,3,4,5]\n",
    "i = 0\n",
    "mul = 1\n",
    "while i<len(n):\n",
    "    mul *= n[i]\n",
    "    i+=1\n",
    "print('multiplication of list =', mul)"
   ]
  },
  {
   "cell_type": "code",
   "execution_count": 4,
   "id": "95c84f32",
   "metadata": {},
   "outputs": [
    {
     "name": "stdout",
     "output_type": "stream",
     "text": [
      "multiplication of list = RenuRenuRenu\n"
     ]
    }
   ],
   "source": [
    "n = [1,'Renu',3]\n",
    "mul = n[0]*n[1]*n[2]\n",
    "print('multiplication of list =', mul)"
   ]
  },
  {
   "cell_type": "markdown",
   "id": "d8787173",
   "metadata": {},
   "source": [
    "### Largest number in list"
   ]
  },
  {
   "cell_type": "code",
   "execution_count": 5,
   "id": "473dfaa5",
   "metadata": {},
   "outputs": [
    {
     "name": "stdout",
     "output_type": "stream",
     "text": [
      "[55, 17, 73, 42]\n",
      "Largest number in list = 73\n"
     ]
    }
   ],
   "source": [
    "n = [55,17,73,42]\n",
    "print(n)\n",
    "print('Largest number in list =', max(n))"
   ]
  },
  {
   "cell_type": "markdown",
   "id": "14e56e16",
   "metadata": {},
   "source": [
    "### Smallest number in list"
   ]
  },
  {
   "cell_type": "code",
   "execution_count": 6,
   "id": "1c847c05",
   "metadata": {},
   "outputs": [
    {
     "name": "stdout",
     "output_type": "stream",
     "text": [
      "[55, 17, 73, 42]\n",
      "Smallest number in list = 17\n"
     ]
    }
   ],
   "source": [
    "n = [55,17,73,42]\n",
    "print(n)\n",
    "print('Smallest number in list =', min(n))"
   ]
  },
  {
   "cell_type": "markdown",
   "id": "e879aaaa",
   "metadata": {},
   "source": [
    "### Count of strings in a list"
   ]
  },
  {
   "cell_type": "code",
   "execution_count": 7,
   "id": "d4905007",
   "metadata": {},
   "outputs": [
    {
     "name": "stdout",
     "output_type": "stream",
     "text": [
      "number of strings in list = 5\n"
     ]
    }
   ],
   "source": [
    "lst = ['renu','6','text','8','cherry']\n",
    "count = 0\n",
    "i = 0\n",
    "for i in range(len(lst)):\n",
    "    count += 1\n",
    "print('number of strings in list =', count)"
   ]
  },
  {
   "cell_type": "code",
   "execution_count": 8,
   "id": "ae76a874",
   "metadata": {},
   "outputs": [
    {
     "name": "stdout",
     "output_type": "stream",
     "text": [
      "number of strings in list = 5\n"
     ]
    }
   ],
   "source": [
    "lst = ['aba','cdc','efe','ghg','aba']\n",
    "count = 0\n",
    "i = 0\n",
    "for i in range(len(lst)):\n",
    "    count += 1\n",
    "print('number of strings in list =', count)"
   ]
  },
  {
   "cell_type": "markdown",
   "id": "f20fce44",
   "metadata": {},
   "source": [
    "### Check List empty or not"
   ]
  },
  {
   "cell_type": "code",
   "execution_count": 9,
   "id": "b2a446c1",
   "metadata": {},
   "outputs": [
    {
     "name": "stdout",
     "output_type": "stream",
     "text": [
      "Enter items as list :\n",
      "[]\n",
      "list is empty\n"
     ]
    }
   ],
   "source": [
    "n=list(input('Enter items as list :'))\n",
    "print(n)\n",
    "if len(n)==0:\n",
    "    print('list is empty')\n",
    "else :\n",
    "    print('List is not empty')"
   ]
  },
  {
   "cell_type": "markdown",
   "id": "7dcaa010",
   "metadata": {},
   "source": [
    "### Remove duplicates from list"
   ]
  },
  {
   "cell_type": "code",
   "execution_count": 10,
   "id": "58c83f7b",
   "metadata": {},
   "outputs": [
    {
     "name": "stdout",
     "output_type": "stream",
     "text": [
      "Enter list items:2468436\n",
      "['2', '4', '6', '8', '3']\n"
     ]
    }
   ],
   "source": [
    "m = list(input('Enter list items:'))\n",
    "l = []\n",
    "for i in m:\n",
    "    if i not in l:\n",
    "        l.append(i)\n",
    "print(l)"
   ]
  },
  {
   "cell_type": "markdown",
   "id": "0cd85c69",
   "metadata": {},
   "source": [
    "### Common elements in list"
   ]
  },
  {
   "cell_type": "code",
   "execution_count": 11,
   "id": "2c860a6f",
   "metadata": {},
   "outputs": [
    {
     "name": "stdout",
     "output_type": "stream",
     "text": [
      "Enter list 1:1768\n",
      "Enter list 2:2478\n",
      "Common elements: ['7', '8']\n"
     ]
    }
   ],
   "source": [
    "l1 = list(input('Enter list 1:'))\n",
    "l2 = list(input('Enter list 2:'))\n",
    "l3 = []\n",
    "for i in l1:\n",
    "    for j in l2:\n",
    "        if i==j:\n",
    "            l3.append(i)\n",
    "if len(l3)==0:\n",
    "    print(\"No Common elements\")\n",
    "else:\n",
    "    print(\"Common elements:\", l3)"
   ]
  },
  {
   "cell_type": "markdown",
   "id": "99bffb0d",
   "metadata": {},
   "source": [
    "### Multiply whole list by 10"
   ]
  },
  {
   "cell_type": "code",
   "execution_count": 12,
   "id": "c46ab83b",
   "metadata": {},
   "outputs": [
    {
     "name": "stdout",
     "output_type": "stream",
     "text": [
      "[20, 80, 70, 10, 60]\n"
     ]
    }
   ],
   "source": [
    "n = [2,8,7,1,6]\n",
    "i = 0\n",
    "m = []\n",
    "for i in range(len(n)):\n",
    "    mul = 10\n",
    "    mul*=n[i]\n",
    "    m.append(mul)\n",
    "print(m)"
   ]
  },
  {
   "cell_type": "markdown",
   "id": "d2b8a5d4",
   "metadata": {},
   "source": [
    "### square of numbers b/w 0-10 using list comprehension"
   ]
  },
  {
   "cell_type": "code",
   "execution_count": 13,
   "id": "38a14e6a",
   "metadata": {},
   "outputs": [
    {
     "name": "stdout",
     "output_type": "stream",
     "text": [
      "[0, 1, 4, 9, 16, 25, 36, 49, 64, 81, 100]\n"
     ]
    }
   ],
   "source": [
    "sq = [i**2 for i in range(11)]\n",
    "print(sq)"
   ]
  },
  {
   "cell_type": "markdown",
   "id": "e08cbaaf",
   "metadata": {},
   "source": [
    "### Extract numbers from string using list comprehension"
   ]
  },
  {
   "cell_type": "code",
   "execution_count": 14,
   "id": "dcaff73c",
   "metadata": {},
   "outputs": [
    {
     "name": "stdout",
     "output_type": "stream",
     "text": [
      "Enter string:mango 4 cherry 8\n",
      "[4, 8]\n"
     ]
    }
   ],
   "source": [
    "n = input('Enter string:')\n",
    "m = [int(i) for i in n if i.isdigit()]\n",
    "print(m)"
   ]
  },
  {
   "cell_type": "code",
   "execution_count": null,
   "id": "8b0c0151",
   "metadata": {},
   "outputs": [],
   "source": []
  }
 ],
 "metadata": {
  "kernelspec": {
   "display_name": "Python 3 (ipykernel)",
   "language": "python",
   "name": "python3"
  },
  "language_info": {
   "codemirror_mode": {
    "name": "ipython",
    "version": 3
   },
   "file_extension": ".py",
   "mimetype": "text/x-python",
   "name": "python",
   "nbconvert_exporter": "python",
   "pygments_lexer": "ipython3",
   "version": "3.9.12"
  }
 },
 "nbformat": 4,
 "nbformat_minor": 5
}
