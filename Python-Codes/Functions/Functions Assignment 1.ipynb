{
 "cells": [
  {
   "cell_type": "markdown",
   "id": "81856371",
   "metadata": {},
   "source": [
    "###  Function to find the Max of three numbers"
   ]
  },
  {
   "cell_type": "code",
   "execution_count": 1,
   "id": "419ae80c",
   "metadata": {},
   "outputs": [
    {
     "name": "stdout",
     "output_type": "stream",
     "text": [
      "Enter 1st number: 8\n",
      "Enter 2nd number: 5\n",
      "Enter 3rd number: 7\n",
      "Maximum of 3 numbers is:  8\n"
     ]
    }
   ],
   "source": [
    "def maximum(x,y,z):\n",
    "    print('Maximum of 3 numbers is: ',max(x,y,z))\n",
    "\n",
    "a=int(input('Enter 1st number: '))\n",
    "b=int(input('Enter 2nd number: '))\n",
    "c=int(input('Enter 3rd number: '))\n",
    "maximum(a,b,c)"
   ]
  },
  {
   "cell_type": "markdown",
   "id": "4b901111",
   "metadata": {},
   "source": [
    "### Function to sum all the numbers in a list"
   ]
  },
  {
   "cell_type": "code",
   "execution_count": 2,
   "id": "1c75c8eb",
   "metadata": {},
   "outputs": [
    {
     "name": "stdout",
     "output_type": "stream",
     "text": [
      "Enter list elements: 5 8 3 6 4\n",
      "Sum of all numbers in list=  26\n"
     ]
    }
   ],
   "source": [
    "def add(n):\n",
    "    i=0\n",
    "    su=0\n",
    "    while i<len(n):\n",
    "        su+=n[i]\n",
    "        i+=1\n",
    "    print('Sum of all numbers in list= ',su)\n",
    "x=list(map(int,input('Enter list elements: ').split()))\n",
    "add(x)"
   ]
  },
  {
   "cell_type": "markdown",
   "id": "09d421fe",
   "metadata": {},
   "source": [
    "### Function to multiply all the numbers in a list"
   ]
  },
  {
   "cell_type": "code",
   "execution_count": 3,
   "id": "4965fe0e",
   "metadata": {},
   "outputs": [
    {
     "name": "stdout",
     "output_type": "stream",
     "text": [
      "Enter list elements: 7 4 2 6 1\n",
      "Multiplication of all numbers in list=  336\n"
     ]
    }
   ],
   "source": [
    "def mul(n):\n",
    "    i=0\n",
    "    mu=1\n",
    "    while i<len(n):\n",
    "        mu*=n[i]\n",
    "        i+=1\n",
    "    print('Multiplication of all numbers in list= ',mu)\n",
    "\n",
    "x=list(map(int,input('Enter list elements: ').split()))\n",
    "mul(x)"
   ]
  },
  {
   "cell_type": "markdown",
   "id": "e5703e62",
   "metadata": {},
   "source": [
    "### Function to reverse a string"
   ]
  },
  {
   "cell_type": "code",
   "execution_count": 4,
   "id": "36b6ebba",
   "metadata": {},
   "outputs": [
    {
     "name": "stdout",
     "output_type": "stream",
     "text": [
      "Enter the string: dream\n",
      "Reverse of the string is:  maerd\n"
     ]
    }
   ],
   "source": [
    "def st(x):\n",
    "    m=x[::-1]\n",
    "    print('Reverse of the string is: ',m)\n",
    "\n",
    "n=input('Enter the string: ')\n",
    "st(n)"
   ]
  },
  {
   "cell_type": "markdown",
   "id": "7e4be7fb",
   "metadata": {},
   "source": [
    "### Function to calculate the factorial of a number "
   ]
  },
  {
   "cell_type": "code",
   "execution_count": 5,
   "id": "3028f3d1",
   "metadata": {},
   "outputs": [
    {
     "name": "stdout",
     "output_type": "stream",
     "text": [
      "Enter any number: 6\n",
      "Factorial of 6 is:  720\n"
     ]
    }
   ],
   "source": [
    "def factorial(x):\n",
    "    i=1\n",
    "    fac=1\n",
    "    while i<=x:\n",
    "        fac*=i\n",
    "        i+=1\n",
    "    print('Factorial of',x,'is: ',fac)\n",
    "    \n",
    "n=int(input('Enter any number: '))\n",
    "factorial(n)"
   ]
  },
  {
   "cell_type": "markdown",
   "id": "229375a6",
   "metadata": {},
   "source": [
    "### Function that accepts a string and calculate the number of uppercase letters and lowercase letters"
   ]
  },
  {
   "cell_type": "code",
   "execution_count": 6,
   "id": "6097f455",
   "metadata": {},
   "outputs": [
    {
     "name": "stdout",
     "output_type": "stream",
     "text": [
      "Enter the string: Hi How are You\n",
      "Uppercase letters:  3\n",
      "Lowercase letters:  11\n"
     ]
    }
   ],
   "source": [
    "def upper_lower(x):\n",
    "    c1=0\n",
    "    c2=0\n",
    "    i=0\n",
    "    while i<len(x):\n",
    "        if x[i].isupper()==True:\n",
    "            c1+=1\n",
    "        else:\n",
    "            c2+=1\n",
    "        i+=1\n",
    "    print('Uppercase letters: ',c1)\n",
    "    print('Lowercase letters: ',c2)\n",
    "\n",
    "n=input('Enter the string: ')\n",
    "upper_lower(n)"
   ]
  },
  {
   "cell_type": "markdown",
   "id": "6c003f56",
   "metadata": {},
   "source": [
    "### Function that takes a list and returns a new list with unique elements of the first list"
   ]
  },
  {
   "cell_type": "code",
   "execution_count": 7,
   "id": "0426eef4",
   "metadata": {},
   "outputs": [
    {
     "name": "stdout",
     "output_type": "stream",
     "text": [
      "Enter list elements: 3 5 8 6 5 8 7 3 4\n",
      "Entered list:  ['3', '5', '8', '6', '5', '8', '7', '3', '4']\n",
      "Unique elements of list are:  ['3', '5', '8', '6', '7', '4']\n"
     ]
    }
   ],
   "source": [
    "def unique(x):\n",
    "    l1=[]\n",
    "    print('Entered list: ',x)\n",
    "    for i in x:\n",
    "        if i not in l1:\n",
    "            l1.append(i)\n",
    "    print('Unique elements of list are: ',l1)\n",
    "\n",
    "n=input('Enter list elements: ').split()\n",
    "unique(n)"
   ]
  },
  {
   "cell_type": "code",
   "execution_count": null,
   "id": "79eebb8a",
   "metadata": {},
   "outputs": [],
   "source": []
  }
 ],
 "metadata": {
  "kernelspec": {
   "display_name": "Python 3 (ipykernel)",
   "language": "python",
   "name": "python3"
  },
  "language_info": {
   "codemirror_mode": {
    "name": "ipython",
    "version": 3
   },
   "file_extension": ".py",
   "mimetype": "text/x-python",
   "name": "python",
   "nbconvert_exporter": "python",
   "pygments_lexer": "ipython3",
   "version": "3.9.12"
  }
 },
 "nbformat": 4,
 "nbformat_minor": 5
}
